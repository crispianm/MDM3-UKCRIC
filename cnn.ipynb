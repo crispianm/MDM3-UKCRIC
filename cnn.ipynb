{
 "cells": [
  {
   "cell_type": "code",
   "execution_count": 8,
   "metadata": {},
   "outputs": [
    {
     "name": "stdout",
     "output_type": "stream",
     "text": [
      "(200, 490, 490, 4)\n"
     ]
    }
   ],
   "source": [
    "import imageio\n",
    "import glob\n",
    "from os.path import join\n",
    "import pandas as pd\n",
    "import matplotlib.pyplot as plt\n",
    "import numpy as np\n",
    "from matplotlib import image\n",
    "\n",
    "images = []\n",
    "image_paths = []\n",
    "\n",
    "for im_path in glob.glob(\"./pngs/dataset/*.png\"):\n",
    "    image_paths.append(im_path)\n",
    "\n",
    "for i in range(1,201,1):\n",
    "    im = image.imread(image_paths[i])\n",
    "    images.append(im)\n",
    "\n",
    "\n",
    "images = np.array(images)\n",
    "\n",
    "\n",
    "print(images.shape)"
   ]
  },
  {
   "cell_type": "code",
   "execution_count": 136,
   "metadata": {},
   "outputs": [
    {
     "ename": "AttributeError",
     "evalue": "'list' object has no attribute 'shape'",
     "output_type": "error",
     "traceback": [
      "\u001b[1;31m---------------------------------------------------------------------------\u001b[0m",
      "\u001b[1;31mAttributeError\u001b[0m                            Traceback (most recent call last)",
      "\u001b[1;32m~\\AppData\\Local\\Temp/ipykernel_1136/926086291.py\u001b[0m in \u001b[0;36m<module>\u001b[1;34m\u001b[0m\n\u001b[1;32m----> 1\u001b[1;33m \u001b[0mimage_paths\u001b[0m\u001b[1;33m.\u001b[0m\u001b[0mshape\u001b[0m\u001b[1;33m\u001b[0m\u001b[1;33m\u001b[0m\u001b[0m\n\u001b[0m",
      "\u001b[1;31mAttributeError\u001b[0m: 'list' object has no attribute 'shape'"
     ]
    }
   ],
   "source": [
    "image_paths"
   ]
  },
  {
   "cell_type": "code",
   "execution_count": 10,
   "metadata": {},
   "outputs": [
    {
     "data": {
      "image/png": "[encoded data removed]",
      "text/plain": [
       "<Figure size 432x288 with 1 Axes>"
      ]
     },
     "metadata": {
      "needs_background": "light"
     },
     "output_type": "display_data"
    }
   ],
   "source": [
    "def display_image(data, index):\n",
    "  image = data[index]\n",
    "  # call method to show image here.\n",
    "  plt.imshow(image)\n",
    "  plt.show()\n",
    "\n",
    "def onehotencode(y_train, y_test):\n",
    "  from tensorflow.keras.utils import to_categorical\n",
    "  y_train_categorical = to_categorical(y_train)\n",
    "  y_test_categorical = to_categorical(y_test)\n",
    "  return y_train_categorical, y_test_categorical\n",
    "\n",
    "def reshape_data_cnn(x_train, x_test):\n",
    "\n",
    "  height = x_train.shape[1]\n",
    "  width = x_train.shape[2]\n",
    "  channels = 3\n",
    "  \n",
    "  # reshape train and test data here.\n",
    "  x_train_cnn = x_train.reshape(x_train.shape[0], height, width, channels)\n",
    "  x_test_cnn = x_test.reshape(x_test.shape[0], height, width, channels)\n",
    "\n",
    "  return x_train_cnn, x_test_cnn\n",
    "\n",
    "def make_predictions(model, data, image):\n",
    "  display_image(x_test, image[0])\n",
    "\n",
    "  predictions = model.predict(data[image])\n",
    "  return predictions[0]\n",
    "\n",
    "# images[0]\n",
    "\n",
    "display_image(images,0)"
   ]
  },
  {
   "cell_type": "code",
   "execution_count": 110,
   "metadata": {},
   "outputs": [],
   "source": [
    "def build_fit_eval_model(x_train, x_test, y_train_categorical, y_test_categorical):\n",
    "  import numpy as np\n",
    "  from tensorflow.keras.models import Sequential\n",
    "  from tensorflow.keras.layers import Dense\n",
    "  from tensorflow.keras.optimizers import Adam\n",
    "  from tensorflow.keras.layers import Conv2D\n",
    "  from tensorflow.keras.layers import MaxPooling2D\n",
    "  from tensorflow. keras.layers import Flatten\n",
    "\n",
    "  height = x_train.shape[1]\n",
    "  width = x_train.shape[2]\n",
    "  channels = 3\n",
    "  num_classes = len(np.unique(y_train))\n",
    "\n",
    "\n",
    "  # build model here.\n",
    "  model = Sequential()\n",
    "\n",
    "  model.add(Conv2D(filters=32, kernel_size=(5,5), padding='same', activation='relu', input_shape=(height, width, channels)))\n",
    "  model.add(MaxPooling2D(pool_size=(2,2), strides=(2,2)))\n",
    "  \"\"\"\n",
    "  one common approach is to add more filters as we add more layers.. the idea being that the early layers 'learn' \n",
    "  more specific features such as edges in an image while later layers learn more specific features.. \n",
    "  while early layers may learn to detect lines, later filters may learn to detect sleeves of a shirt, or heels of a shoe\n",
    "  \"\"\"\n",
    "  model.add(Conv2D(filters=64, kernel_size=(5,5), padding='same', activation='relu', input_shape=(height, width, channels)))\n",
    "  model.add(MaxPooling2D(pool_size=(2,2), strides=(2,2)))\n",
    "  \"\"\"\n",
    "  once we finish convolutions, we need to squish or non 1D output into something a \n",
    "  fully connected neural network can process.\n",
    "  you can think of the convolution layers as learning image features, while the fully connected\n",
    "  layer below is performing classification using them.\n",
    "  \"\"\"\n",
    "  model.add(Flatten())\n",
    "  \"\"\"\n",
    "  now that we have squished, or flattened it, we can either just add one more layer that we want to be our \n",
    "  predicted class probablities, or we can add some more dense (for e.g.) layers first..\n",
    "  the final dense layer will be our output layer, producing probablities that the image belongs to each class\n",
    "  \"\"\"\n",
    "  model.add(Dense(64, activation='relu'))\n",
    "  model.add(Dense(32, activation='relu'))\n",
    "  model.add(Dense(num_classes, activation='softmax'))\n",
    "\n",
    "\n",
    "  # compile model here\n",
    "  model.compile(loss='categorical_crossentropy', optimizer=Adam(learning_rate=0.001), metrics=['accuracy'])\n",
    "\n",
    "\n",
    "  # fit/train model here\n",
    "  history = model.fit(x_train_cnn, y_train_categorical, epochs=10)\n",
    "\n",
    "  # evaluate model on test set here\n",
    "  loss, accuracy = model.evaluate(x_test_cnn, y_test_categorical)\n",
    "\n",
    "  return model"
   ]
  },
  {
   "cell_type": "code",
   "execution_count": 11,
   "metadata": {},
   "outputs": [
    {
     "name": "stdout",
     "output_type": "stream",
     "text": [
      "(60000, 28, 28)\n"
     ]
    }
   ],
   "source": [
    "from tensorflow.keras.datasets import fashion_mnist\n",
    "from tensorflow.keras.utils import to_categorical\n",
    "import numpy as np\n",
    "\n",
    "\n",
    "\n",
    "\n",
    "x_train, x_test, y_test, y_train = fashion_mnist.load_data()\n",
    "\n",
    "print(x_train.shape)\n",
    "\n",
    "y_train_categorical = to_categorical(y_train)\n",
    "y_test_categorical = to_categorical(y_test)\n",
    "num_classes = len(np.unique(y_train))\n",
    "height = x_train.shape[1]\n",
    "width = x_train.shape[2]\n",
    "channels = 1\n",
    "x_train_cnn = x_train.reshape(x_train.shape[0], height, width, channels)\n",
    "x_test_cnn = x_test.reshape(x_test.shape[0], height, width, channels)\n",
    "\n",
    "# CNN(x_train_cnn, y_train_categorical)\n",
    "\n"
   ]
  },
  {
   "cell_type": "code",
   "execution_count": null,
   "metadata": {},
   "outputs": [],
   "source": []
  }
 ],
 "metadata": {
  "interpreter": {
   "hash": "5ce67bb6f49e5a3a5e8242f865d588f7cfc783cd45e0a7fc178d0bf7c5dca7df"
  },
  "kernelspec": {
   "display_name": "Python 3.9.10 ('AI_general')",
   "language": "python",
   "name": "python3"
  },
  "language_info": {
   "codemirror_mode": {
    "name": "ipython",
    "version": 3
   },
   "file_extension": ".py",
   "mimetype": "text/x-python",
   "name": "python",
   "nbconvert_exporter": "python",
   "pygments_lexer": "ipython3",
   "version": "3.8.2"
  },
  "orig_nbformat": 4
 },
 "nbformat": 4,
 "nbformat_minor": 2
}
