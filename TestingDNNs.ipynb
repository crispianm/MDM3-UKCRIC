{
  "nbformat": 4,
  "nbformat_minor": 0,
  "metadata": {
    "colab": {
      "name": "TestingDNNs.ipynb",
      "provenance": [],
      "authorship_tag": "ABX9TyP5hCxOXwciEMhpBDw9LkHy",
      "include_colab_link": true
    },
    "kernelspec": {
      "name": "python3",
      "display_name": "Python 3"
    },
    "language_info": {
      "name": "python"
    }
  },
  "cells": [
    {
      "cell_type": "markdown",
      "metadata": {
        "id": "view-in-github",
        "colab_type": "text"
      },
      "source": [
        "<a href=\"https://colab.research.google.com/github/crispianm/MDM3-UKCRIC/blob/main/TestingDNNs.ipynb\" target=\"_parent\"><img src=\"https://colab.research.google.com/assets/colab-badge.svg\" alt=\"Open In Colab\"/></a>"
      ]
    },
    {
      "cell_type": "code",
      "execution_count": 54,
      "metadata": {
        "id": "gifiwVRpyh-g"
      },
      "outputs": [],
      "source": [
        "import numpy as np\n",
        "import matplotlib.pyplot as plt\n",
        "from tensorflow.keras.models import Sequential\n",
        "from tensorflow.keras.layers import Dense, Conv2D, MaxPooling2D, Flatten\n",
        "from tensorflow.keras.optimizers import SGD\n",
        "from tensorflow.keras.utils import to_categorical\n",
        "import pandas as pd\n",
        "import os \n",
        "import sys\n"
      ]
    },
    {
      "cell_type": "code",
      "source": [
        "#file = open('SingleSidedAmplitudeSpectrum_labelled.csv')\n",
        "#file = open('LabelledMatrixTimeDomain.csv')\n",
        "file = open('ExtractedFeatures_labelled.csv')\n",
        "data = np.loadtxt(file, delimiter=\",\")\n",
        "\n",
        "\n",
        "print(data.shape)\n",
        "training_set = data[0:1991,3:]\n",
        "test_set = data[1992:2845,3:]\n",
        "print(training_set[1,:])\n",
        "training_labels = data[0:1991,0]\n",
        "test_labels = data[1992:2845,0]\n",
        "num_classes = len(np.unique(training_labels))\n",
        "print(num_classes)"
      ],
      "metadata": {
        "colab": {
          "base_uri": "https://localhost:8080/"
        },
        "id": "613JO7erysnn",
        "outputId": "d4f5797c-100d-4265-dbf9-2db9c6782ac4"
      },
      "execution_count": 55,
      "outputs": [
        {
          "output_type": "stream",
          "name": "stdout",
          "text": [
            "(2846, 12)\n",
            "[ 5.40318141e-03  7.06119821e-03  2.39894874e-02 -2.06777101e-02\n",
            "  3.58458924e+00  5.47238272e-02  4.97569537e-05  8.46713359e-03\n",
            "  5.40281480e-03]\n",
            "6\n"
          ]
        }
      ]
    },
    {
      "cell_type": "code",
      "source": [
        "training_labels_categorical = to_categorical(training_labels)\n",
        "test_labels_categorical = to_categorical(test_labels)\n",
        "print(training_labels_categorical[0])"
      ],
      "metadata": {
        "colab": {
          "base_uri": "https://localhost:8080/"
        },
        "id": "bY_9CBuz2QB6",
        "outputId": "4a007a53-8491-44d8-d0ba-94da95d5ca27"
      },
      "execution_count": 56,
      "outputs": [
        {
          "output_type": "stream",
          "name": "stdout",
          "text": [
            "[1. 0. 0. 0. 0. 0.]\n"
          ]
        }
      ]
    },
    {
      "cell_type": "code",
      "source": [
        "model = Sequential()\n",
        "num_features = training_set.shape[1]\n",
        "model.add(Dense(128, input_dim = num_features, activation='relu'))\n",
        "model.add(Dense(64, activation='relu'))\n",
        "model.add(Dense(32, activation='relu'))\n",
        "model.add(Dense(16, activation='relu'))\n",
        "model.add(Dense(num_classes, activation='softmax'))\n",
        "\n",
        "model.compile(loss='categorical_crossentropy', optimizer=SGD(learning_rate = 0.01), metrics=['accuracy'])\n",
        "\n",
        "history = model.fit(training_set, training_labels_categorical, epochs=30) "
      ],
      "metadata": {
        "id": "nyPiSIJu3EiL"
      },
      "execution_count": null,
      "outputs": []
    },
    {
      "cell_type": "code",
      "source": [
        "loss, accuracy = model.evaluate(test_set, test_labels_categorical)"
      ],
      "metadata": {
        "colab": {
          "base_uri": "https://localhost:8080/"
        },
        "id": "HQP3yNEY45yR",
        "outputId": "a851c3f2-cc67-4320-f4c2-2d299aa65c27"
      },
      "execution_count": null,
      "outputs": [
        {
          "output_type": "stream",
          "name": "stdout",
          "text": [
            "27/27 [==============================] - 0s 1ms/step - loss: 1.7620 - accuracy: 0.3740\n"
          ]
        }
      ]
    },
    {
      "cell_type": "code",
      "source": [
        "plt.plot(history.history['loss'])\n",
        "plt.xlabel('epoch')\n",
        "plt.ylabel('loss')"
      ],
      "metadata": {
        "colab": {
          "base_uri": "https://localhost:8080/",
          "height": 296
        },
        "id": "tfWjeMHB5TjF",
        "outputId": "cb63c115-c080-4cd5-ec95-d8ec2ddfcf28"
      },
      "execution_count": null,
      "outputs": [
        {
          "output_type": "execute_result",
          "data": {
            "text/plain": [
              "Text(0, 0.5, 'loss')"
            ]
          },
          "metadata": {},
          "execution_count": 45
        },
        {
          "output_type": "display_data",
          "data": {
            "image/png": "[encoded data removed]",
            "text/plain": [
              "<Figure size 432x288 with 1 Axes>"
            ]
          },
          "metadata": {
            "needs_background": "light"
          }
        }
      ]
    }
  ]
}