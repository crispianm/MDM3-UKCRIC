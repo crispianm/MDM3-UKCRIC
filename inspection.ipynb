{
 "cells": [
  {
   "cell_type": "code",
   "execution_count": null,
   "metadata": {},
   "outputs": [],
   "source": [
    "import pandas as pd\n",
    "from os.path import join\n",
    "import os\n",
    "import numpy as np\n",
    "import matplotlib.pyplot as plt"
   ]
  },
  {
   "cell_type": "code",
   "execution_count": null,
   "metadata": {},
   "outputs": [],
   "source": [
    "data_sec_1 = pd.read_csv(join(\"./accelerometer_data_section_1.csv\"))\n",
    "data_sec_2 = pd.read_csv(join(\"./accelerometer_data_section_2.csv\"))\n",
    "data_sec_3 = pd.read_csv(join(\"./accelerometer_data_section_3.csv\"))\n",
    "data_sec_4 = pd.read_csv(join(\"./accelerometer_data_section_4.csv\"))\n",
    "data_sec_5 = pd.read_csv(join(\"./accelerometer_data_section_5.csv\"))\n",
    "data_sec_6 = pd.read_csv(join(\"./accelerometer_data_section_6.csv\"))\n",
    "data_sec_7 = pd.read_csv(join(\"./accelerometer_data_section_7.csv\"))\n",
    "\n",
    "vehicle_timestamps = pd.read_csv(join(\"./vehicle_timestamps.csv\"))"
   ]
  },
  {
   "cell_type": "code",
   "execution_count": null,
   "metadata": {},
   "outputs": [],
   "source": [
    "data = data_sec_1.append([data_sec_2,data_sec_3,data_sec_4,data_sec_5,data_sec_6,data_sec_7])"
   ]
  }
 ],
 "metadata": {
  "language_info": {
   "name": "python"
  },
  "orig_nbformat": 4
 },
 "nbformat": 4,
 "nbformat_minor": 2
}
