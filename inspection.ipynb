{
 "cells": [
  {
   "cell_type": "code",
   "execution_count": null,
   "metadata": {},
   "outputs": [],
   "source": [
    "import pandas as pd\n",
    "from os.path import join\n",
    "import os\n",
    "import numpy as np\n",
    "import matplotlib.pyplot as plt\n",
    "\n",
    "import plotly\n",
    "import plotly.graph_objects as go"
   ]
  },
  {
   "cell_type": "code",
   "execution_count": null,
   "metadata": {},
   "outputs": [],
   "source": [
    "things = pd.read_csv(join(\"./tsfresh_features.csv\"))"
   ]
  },
  {
   "cell_type": "code",
   "execution_count": null,
   "metadata": {},
   "outputs": [],
   "source": [
    "things.shape"
   ]
  },
  {
   "cell_type": "code",
   "execution_count": null,
   "metadata": {},
   "outputs": [],
   "source": [
    "data_sec_1 = pd.read_csv(join(\"./data/accelerometer_data_section_1.csv\"))\n",
    "data_sec_2 = pd.read_csv(join(\"./data/accelerometer_data_section_2.csv\"))\n",
    "data_sec_3 = pd.read_csv(join(\"./data/accelerometer_data_section_3.csv\"))\n",
    "data_sec_4 = pd.read_csv(join(\"./data/accelerometer_data_section_4.csv\"))\n",
    "data_sec_5 = pd.read_csv(join(\"./data/accelerometer_data_section_5.csv\"))\n",
    "data_sec_6 = pd.read_csv(join(\"./data/accelerometer_data_section_6.csv\"))\n",
    "data_sec_7 = pd.read_csv(join(\"./data/accelerometer_data_section_7.csv\"))\n",
    "\n",
    "vehicle_timestamps = pd.read_csv(join(\"./data/vehicle_timestamps.csv\"))"
   ]
  },
  {
   "cell_type": "code",
   "execution_count": null,
   "metadata": {},
   "outputs": [],
   "source": [
    "## Convert to Datetimes in new columns\n",
    "data_sec_1['Timestamp'] = pd.to_datetime(data_sec_1['Timestamp'], infer_datetime_format=True)\n",
    "data_sec_2['Timestamp'] = pd.to_datetime(data_sec_2['Timestamp'], infer_datetime_format=True)\n",
    "data_sec_3['Timestamp'] = pd.to_datetime(data_sec_3['Timestamp'], infer_datetime_format=True)\n",
    "data_sec_4['Timestamp'] = pd.to_datetime(data_sec_4['Timestamp'], infer_datetime_format=True)\n",
    "data_sec_5['Timestamp'] = pd.to_datetime(data_sec_5['Timestamp'], infer_datetime_format=True)\n",
    "data_sec_6['Timestamp'] = pd.to_datetime(data_sec_6['Timestamp'], infer_datetime_format=True)\n",
    "data_sec_7['Timestamp'] = pd.to_datetime(data_sec_7['Timestamp'], infer_datetime_format=True)\n",
    "\n",
    "\n",
    "vehicle_timestamps['Timestamp'] = pd.to_datetime(vehicle_timestamps['Timestamp'], infer_datetime_format=True)\n"
   ]
  },
  {
   "cell_type": "code",
   "execution_count": null,
   "metadata": {},
   "outputs": [],
   "source": [
    "data = data_sec_1.append([data_sec_2,data_sec_3,data_sec_4,data_sec_5,data_sec_6,data_sec_7])\n",
    "data['Timestamp'] = pd.to_datetime(data['Timestamp'], infer_datetime_format=True)"
   ]
  },
  {
   "cell_type": "code",
   "execution_count": null,
   "metadata": {},
   "outputs": [],
   "source": [
    "## One hot encode direction:\n",
    "vehicle_timestamps = pd.get_dummies(vehicle_timestamps, columns=['Direction'])\n",
    "# print(vehicle_timestamps)"
   ]
  },
  {
   "cell_type": "code",
   "execution_count": null,
   "metadata": {},
   "outputs": [],
   "source": [
    "clifton_timestamps = vehicle_timestamps[vehicle_timestamps['Direction_Clifton'] == 1]\n",
    "# print(clifton_timestamps)"
   ]
  },
  {
   "cell_type": "code",
   "execution_count": null,
   "metadata": {},
   "outputs": [],
   "source": [
    "leigh_woods_timestamps = vehicle_timestamps[vehicle_timestamps['Direction_Leigh_Woods'] == 1]\n",
    "# print(leigh_woods_timestamps)"
   ]
  },
  {
   "cell_type": "code",
   "execution_count": null,
   "metadata": {},
   "outputs": [],
   "source": [
    "# vehicle_timestamps_group = vehicle_timestamps.groupby('Timestamp').agg({\n",
    "#     'Direction': '<br>'.join,\n",
    "#     'Timestamp':'sum'\n",
    "# })\n",
    "\n",
    "# data_group = data.groupby('Timestamp').agg({\n",
    "#     'Acceleration': '<br>'.join,\n",
    "#     'Timestamp':'sum'\n",
    "# })"
   ]
  },
  {
   "cell_type": "code",
   "execution_count": null,
   "metadata": {},
   "outputs": [],
   "source": [
    "# time_index = pd.date_range(data['Timestamp'].min(), data['Timestamp'].max())\n",
    "# # print(time_index)\n",
    "\n",
    "# vehicle_timestamps_hourly = pd.DataFrame(vehicle_timestamps['Direction'])\n",
    "# vehicle_timestamps_hourly = vehicle_timestamps_hourly.reindex(time_index, fill_value=np.nan)\n",
    "# vehicle_timestamps_hourly = vehicle_timestamps_hourly.fillna(method='ffill')\n",
    "\n",
    "# # df_monthly = \\\n",
    "# # pd.DataFrame(data['Timestamp'].resample(rule='1M').mean())"
   ]
  },
  {
   "cell_type": "code",
   "execution_count": null,
   "metadata": {},
   "outputs": [],
   "source": [
    "data_sec_7['Timestamp']"
   ]
  },
  {
   "cell_type": "code",
   "execution_count": null,
   "metadata": {},
   "outputs": [],
   "source": [
    "# Plot data\n",
    "\n",
    "\n",
    "# fig = go.Figure()\n",
    "\n",
    "# fig.add_trace(go.Scatter(x = data['Timestamp'],\n",
    "#                          y = data['Acceleration'],\n",
    "#                          mode='lines',\n",
    "                         \n",
    "#                          name='Acceleration'))  \n",
    "\n",
    "# # fig.add_trace(go.Scatter(x = clifton_timestamps['Timestamp'],\n",
    "# #                          y = clifton_timestamps['Direction_Leigh_Woods'],\n",
    "# #                          mode='markers',\n",
    "                         \n",
    "# #                          name='Clifton Direction'))\n",
    "\n",
    "# # fig.add_trace(go.Scatter(x = leigh_woods_timestamps['Timestamp'],\n",
    "# #                          y = leigh_woods_timestamps['Direction_Clifton'],\n",
    "# #                          mode='markers',\n",
    "                        \n",
    "# #                          name='Leigh Woods Direction'))    \n",
    "\n",
    "# fig.update_xaxes(range=[clifton_timestamps['Timestamp'].min(), clifton_timestamps['Timestamp'].max()])\n",
    "\n",
    "# fig.show()\n",
    "\n",
    "\n",
    "\n",
    "g1 = (data_sec_1['Timestamp'], data_sec_1['Acceleration'])\n",
    "g2 = (data_sec_2['Timestamp'], data_sec_2['Acceleration'])\n",
    "g3 = (data_sec_3['Timestamp'], data_sec_3['Acceleration'])\n",
    "g4 = (data_sec_4['Timestamp'], data_sec_4['Acceleration'])\n",
    "g5 = (data_sec_5['Timestamp'], data_sec_5['Acceleration'])\n",
    "g6 = (data_sec_6['Timestamp'], data_sec_6['Acceleration'])\n",
    "g7 = (data_sec_7['Timestamp'], data_sec_7['Acceleration'])\n",
    "\n",
    "\n",
    "import dateutil\n",
    "lower_bound = dateutil.parser.parse('2021-04-22 09:15:00.000000')\n",
    "upper_bound = dateutil.parser.parse('2021-04-22 16:50:00.000000')\n",
    "\n",
    "import matplotlib.pyplot as plt\n",
    "import matplotlib.dates as mdates\n",
    "from matplotlib.patches import Patch\n",
    "from matplotlib.lines import Line2D\n",
    "\n",
    "myFmt = mdates.DateFormatter('%H:%M:%S') # here you can format your datetick labels as desired\n",
    "plt.gca().xaxis.set_major_formatter(myFmt)\n",
    "\n",
    "\n",
    "clifton_timestamps['value'] = clifton_timestamps['Direction_Leigh_Woods']-0.005\n",
    "leigh_woods_timestamps['value'] = leigh_woods_timestamps['Direction_Clifton']+0.005\n",
    "\n",
    "SMALL_SIZE = 16\n",
    "MEDIUM_SIZE = 18\n",
    "BIGGER_SIZE = 12\n",
    "\n",
    "plt.rc('font', size=SMALL_SIZE)          # controls default text sizes\n",
    "plt.rc('axes', titlesize=SMALL_SIZE)     # fontsize of the axes title\n",
    "plt.rc('axes', labelsize=MEDIUM_SIZE)    # fontsize of the x and y labels\n",
    "plt.rc('xtick', labelsize=SMALL_SIZE)    # fontsize of the tick labels\n",
    "plt.rc('ytick', labelsize=SMALL_SIZE)    # fontsize of the tick labels\n",
    "plt.rc('legend', fontsize=16)    # legend fontsize\n",
    "plt.rc('figure', titlesize=BIGGER_SIZE) \n",
    "\n",
    "plt.rcParams[\"figure.figsize\"] = (25,7)\n",
    "# plt.tight_layout()\n",
    "plt.set_cmap('cividis')\n",
    "plt.plot(data_sec_1['Timestamp'], data_sec_1['Acceleration'], '.', label='Section 1')\n",
    "plt.plot(data_sec_2['Timestamp'], data_sec_2['Acceleration'], '.', label='Section 2')\n",
    "plt.plot(data_sec_3['Timestamp'], data_sec_3['Acceleration'], '.', label='Section 3')\n",
    "plt.plot(data_sec_4['Timestamp'], data_sec_4['Acceleration'], '.', label='Section 4')\n",
    "plt.plot(data_sec_5['Timestamp'], data_sec_5['Acceleration'], '.', label='Section 5')\n",
    "plt.plot(data_sec_6['Timestamp'], data_sec_6['Acceleration'], '.', label='Section 6')\n",
    "plt.plot(data_sec_7['Timestamp'], data_sec_7['Acceleration'], '.', label='Section 7')\n",
    "\n",
    "# plt.plot(clifton_timestamps['Timestamp'], clifton_timestamps['value'], 'x')\n",
    "# plt.plot(leigh_woods_timestamps['Timestamp'], leigh_woods_timestamps['value'], 'x')\n",
    "plt.xlim([lower_bound, upper_bound])\n",
    "plt.ylim([-0.1, 0.1])\n",
    "plt.ylabel(\"Acceleration\")\n",
    "plt.xlabel(\"Timestamp\")\n",
    "plt.legend(loc = 'upper right')\n",
    "plt.show()"
   ]
  },
  {
   "cell_type": "code",
   "execution_count": null,
   "metadata": {},
   "outputs": [],
   "source": [
    "# Plot subplot data\n",
    "\n",
    "from plotly.subplots import make_subplots\n",
    "\n",
    "fig = make_subplots(rows=7, cols=1)\n",
    "\n",
    "fig.append_trace(go.Scatter(\n",
    "    x = data_sec_1['Timestamp'],\n",
    "    y = data_sec_1['Acceleration'],\n",
    "), row=1, col=1)\n",
    "\n",
    "fig.append_trace(go.Scatter(\n",
    "    x = data_sec_2['Timestamp'],\n",
    "    y = data_sec_2['Acceleration'],\n",
    "), row=2, col=1)\n",
    "\n",
    "fig.append_trace(go.Scatter(\n",
    "    x = data_sec_3['Timestamp'],\n",
    "    y = data_sec_3['Acceleration'],\n",
    "), row=3, col=1)\n",
    "\n",
    "fig.append_trace(go.Scatter(\n",
    "    x = data_sec_4['Timestamp'],\n",
    "    y = data_sec_4['Acceleration'],\n",
    "), row=4, col=1)\n",
    "\n",
    "fig.append_trace(go.Scatter(\n",
    "    x = data_sec_5['Timestamp'],\n",
    "    y = data_sec_5['Acceleration'],\n",
    "), row=5, col=1)\n",
    "\n",
    "fig.append_trace(go.Scatter(\n",
    "    x = data_sec_6['Timestamp'],\n",
    "    y = data_sec_6['Acceleration'],\n",
    "), row=6, col=1)\n",
    "\n",
    "fig.append_trace(go.Scatter(\n",
    "    x = data_sec_7['Timestamp'],\n",
    "    y = data_sec_7['Acceleration'],\n",
    "), row=7, col=1)\n",
    "\n",
    "\n",
    "fig.update_layout(height=1080, width=1920, title_text=\"Stacked Subplots\")\n",
    "fig.show()"
   ]
  },
  {
   "cell_type": "code",
   "execution_count": null,
   "metadata": {},
   "outputs": [],
   "source": []
  },
  {
   "cell_type": "code",
   "execution_count": null,
   "metadata": {},
   "outputs": [],
   "source": []
  },
  {
   "cell_type": "code",
   "execution_count": null,
   "metadata": {},
   "outputs": [],
   "source": []
  }
 ],
 "metadata": {
  "interpreter": {
   "hash": "1baa965d5efe3ac65b79dfc60c0d706280b1da80fedb7760faf2759126c4f253"
  },
  "kernelspec": {
   "display_name": "Python 3.8.2 64-bit",
   "language": "python",
   "name": "python3"
  },
  "language_info": {
   "codemirror_mode": {
    "name": "ipython",
    "version": 3
   },
   "file_extension": ".py",
   "mimetype": "text/x-python",
   "name": "python",
   "nbconvert_exporter": "python",
   "pygments_lexer": "ipython3",
   "version": "3.8.2"
  },
  "orig_nbformat": 4
 },
 "nbformat": 4,
 "nbformat_minor": 2
}
