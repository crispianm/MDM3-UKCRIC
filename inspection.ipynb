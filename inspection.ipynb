{
 "cells": [
  {
   "cell_type": "code",
   "execution_count": null,
   "metadata": {},
   "outputs": [],
   "source": [
    "import pandas as pd\n",
    "from os.path import join\n",
    "import os\n",
    "import numpy as np\n",
    "import matplotlib.pyplot as plt\n",
    "\n",
    "import plotly\n",
    "import plotly.graph_objects as go"
   ]
  },
  {
   "cell_type": "code",
   "execution_count": null,
   "metadata": {},
   "outputs": [],
   "source": [
    "data_sec_1 = pd.read_csv(join(\"./data/accelerometer_data_section_1.csv\"))\n",
    "data_sec_2 = pd.read_csv(join(\"./data/accelerometer_data_section_2.csv\"))\n",
    "data_sec_3 = pd.read_csv(join(\"./data/accelerometer_data_section_3.csv\"))\n",
    "data_sec_4 = pd.read_csv(join(\"./data/accelerometer_data_section_4.csv\"))\n",
    "data_sec_5 = pd.read_csv(join(\"./data/accelerometer_data_section_5.csv\"))\n",
    "data_sec_6 = pd.read_csv(join(\"./data/accelerometer_data_section_6.csv\"))\n",
    "data_sec_7 = pd.read_csv(join(\"./data/accelerometer_data_section_7.csv\"))\n",
    "\n",
    "vehicle_timestamps = pd.read_csv(join(\"./data/vehicle_timestamps.csv\"))"
   ]
  },
  {
   "cell_type": "code",
   "execution_count": null,
   "metadata": {},
   "outputs": [],
   "source": []
  },
  {
   "cell_type": "code",
   "execution_count": null,
   "metadata": {},
   "outputs": [],
   "source": [
    "## Convert to Datetimes in new columns\n",
    "data_sec_1['Date'] = pd.to_datetime(data_sec_1['Timestamp'], infer_datetime_format=True)\n",
    "data_sec_2['Date'] = pd.to_datetime(data_sec_2['Timestamp'], infer_datetime_format=True)\n",
    "data_sec_3['Date'] = pd.to_datetime(data_sec_3['Timestamp'], infer_datetime_format=True)\n",
    "data_sec_4['Date'] = pd.to_datetime(data_sec_4['Timestamp'], infer_datetime_format=True)\n",
    "data_sec_5['Date'] = pd.to_datetime(data_sec_5['Timestamp'], infer_datetime_format=True)\n",
    "data_sec_6['Date'] = pd.to_datetime(data_sec_6['Timestamp'], infer_datetime_format=True)\n",
    "data_sec_7['Date'] = pd.to_datetime(data_sec_7['Timestamp'], infer_datetime_format=True)\n",
    "\n",
    "\n",
    "vehicle_timestamps['Date'] = pd.to_datetime(vehicle_timestamps['Timestamp'], infer_datetime_format=True)\n"
   ]
  },
  {
   "cell_type": "code",
   "execution_count": null,
   "metadata": {},
   "outputs": [],
   "source": [
    "data = data_sec_1.append([data_sec_2])\n",
    "# data = data_sec_1.append([data_sec_2,data_sec_3,data_sec_4,data_sec_5,data_sec_6,data_sec_7])\n",
    "\n",
    "data['Date'] = pd.to_datetime(data['Timestamp'], infer_datetime_format=True)"
   ]
  },
  {
   "cell_type": "code",
   "execution_count": null,
   "metadata": {},
   "outputs": [],
   "source": [
    "## One hot encode direction:\n",
    "vehicle_timestamps = pd.get_dummies(vehicle_timestamps, columns=['Direction'])\n",
    "# print(vehicle_timestamps)"
   ]
  },
  {
   "cell_type": "code",
   "execution_count": null,
   "metadata": {},
   "outputs": [],
   "source": [
    "clifton_timestamps = vehicle_timestamps[vehicle_timestamps['Direction_Clifton'] == 1]\n",
    "# print(clifton_timestamps)"
   ]
  },
  {
   "cell_type": "code",
   "execution_count": null,
   "metadata": {},
   "outputs": [],
   "source": [
    "leigh_woods_timestamps = vehicle_timestamps[vehicle_timestamps['Direction_Leigh_Woods'] == 1]\n",
    "# print(leigh_woods_timestamps)"
   ]
  },
  {
   "cell_type": "code",
   "execution_count": null,
   "metadata": {},
   "outputs": [],
   "source": [
    "# vehicle_timestamps_group = vehicle_timestamps.groupby('Date').agg({\n",
    "#     'Direction': '<br>'.join,\n",
    "#     'Date':'sum'\n",
    "# })\n",
    "\n",
    "# data_group = data.groupby('Date').agg({\n",
    "#     'Acceleration': '<br>'.join,\n",
    "#     'Date':'sum'\n",
    "# })"
   ]
  },
  {
   "cell_type": "code",
   "execution_count": null,
   "metadata": {},
   "outputs": [],
   "source": [
    "time_index = pd.date_range(data['Date'].min(), data['Date'].max())\n",
    "# print(time_index)\n",
    "\n",
    "vehicle_timestamps_hourly = pd.DataFrame(vehicle_timestamps['Direction'])\n",
    "vehicle_timestamps_hourly = vehicle_timestamps_hourly.reindex(time_index, fill_value=np.nan)\n",
    "vehicle_timestamps_hourly = vehicle_timestamps_hourly.fillna(method='ffill')\n",
    "\n",
    "# df_monthly = \\\n",
    "# pd.DataFrame(data['Timestamp'].resample(rule='1M').mean())"
   ]
  },
  {
   "cell_type": "code",
   "execution_count": null,
   "metadata": {},
   "outputs": [],
   "source": [
    "zeros_column = pd.DataFrame(0, index=np.arange(len(data)), columns=['Direction'])\n"
   ]
  },
  {
   "cell_type": "code",
   "execution_count": null,
   "metadata": {},
   "outputs": [],
   "source": [
    "# time_index = pd.date_range(vehicle_timestamps['Date'].min(), vehicle_timestamps['Date'].max())\n",
    "# Plot data\n",
    "fig = go.Figure()\n",
    "\n",
    "fig.add_trace(go.Scatter(x = clifton_timestamps['Date'],\n",
    "                         y = clifton_timestamps['Direction_Leigh_Woods'],\n",
    "                         mode='markers',\n",
    "                         name='Clifton Direction'))\n",
    "\n",
    "fig.add_trace(go.Scatter(x = leigh_woods_timestamps['Date'],\n",
    "                         y = leigh_woods_timestamps['Direction_Leigh_Woods'],\n",
    "                         mode='markers',\n",
    "                         name='Leigh Woods Direction'))                         \n",
    "\n",
    "fig.show()"
   ]
  },
  {
   "cell_type": "code",
   "execution_count": null,
   "metadata": {},
   "outputs": [],
   "source": [
    "# Plot data\n",
    "from plotly.subplots import make_subplots\n",
    "\n",
    "\n",
    "# fig = go.Figure()\n",
    "\n",
    "# fig.add_trace(go.Scatter(x = data_sec_1['Date'],\n",
    "#                          y = data_sec_1['Acceleration'],\n",
    "#                          mode='lines',\n",
    "#                          name='Acceleration'))\n",
    "\n",
    "# fig.show()\n",
    "\n",
    "\n",
    "fig = make_subplots(rows=7, cols=1)\n",
    "\n",
    "fig.append_trace(go.Scatter(\n",
    "    x = data_sec_1['Date'],\n",
    "    y = data_sec_1['Acceleration'],\n",
    "), row=1, col=1)\n",
    "\n",
    "fig.append_trace(go.Scatter(\n",
    "    x = data_sec_2['Date'],\n",
    "    y = data_sec_2['Acceleration'],\n",
    "), row=2, col=1)\n",
    "\n",
    "fig.append_trace(go.Scatter(\n",
    "    x = data_sec_3['Date'],\n",
    "    y = data_sec_3['Acceleration'],\n",
    "), row=3, col=1)\n",
    "\n",
    "fig.append_trace(go.Scatter(\n",
    "    x = data_sec_4['Date'],\n",
    "    y = data_sec_4['Acceleration'],\n",
    "), row=4, col=1)\n",
    "\n",
    "fig.append_trace(go.Scatter(\n",
    "    x = data_sec_5['Date'],\n",
    "    y = data_sec_5['Acceleration'],\n",
    "), row=5, col=1)\n",
    "\n",
    "fig.append_trace(go.Scatter(\n",
    "    x = data_sec_6['Date'],\n",
    "    y = data_sec_6['Acceleration'],\n",
    "), row=6, col=1)\n",
    "\n",
    "fig.append_trace(go.Scatter(\n",
    "    x = data_sec_7['Date'],\n",
    "    y = data_sec_7['Acceleration'],\n",
    "), row=7, col=1)\n",
    "\n",
    "\n",
    "fig.update_layout(height=1080, width=1920, title_text=\"Stacked Subplots\")\n",
    "fig.show()"
   ]
  },
  {
   "cell_type": "code",
   "execution_count": null,
   "metadata": {},
   "outputs": [],
   "source": []
  },
  {
   "cell_type": "code",
   "execution_count": null,
   "metadata": {},
   "outputs": [],
   "source": []
  },
  {
   "cell_type": "code",
   "execution_count": null,
   "metadata": {},
   "outputs": [],
   "source": []
  }
 ],
 "metadata": {
  "interpreter": {
   "hash": "1baa965d5efe3ac65b79dfc60c0d706280b1da80fedb7760faf2759126c4f253"
  },
  "kernelspec": {
   "display_name": "Python 3.8.2 64-bit",
   "language": "python",
   "name": "python3"
  },
  "language_info": {
   "codemirror_mode": {
    "name": "ipython",
    "version": 3
   },
   "file_extension": ".py",
   "mimetype": "text/x-python",
   "name": "python",
   "nbconvert_exporter": "python",
   "pygments_lexer": "ipython3",
   "version": "3.8.2"
  },
  "orig_nbformat": 4
 },
 "nbformat": 4,
 "nbformat_minor": 2
}
