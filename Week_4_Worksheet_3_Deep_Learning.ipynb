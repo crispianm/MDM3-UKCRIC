{
  "cells": [
    {
      "cell_type": "markdown",
      "metadata": {
        "id": "jhukcqeR6UFg"
      },
      "source": [
        "# STEP ZERO\n",
        "You may want to consult the [notebook provided for this week](https://colab.research.google.com/drive/176yS-mw-fO0JI1CAN97wgmyRx0N9xriI?usp=sharing). It has everything you need to complete the steps below."
      ]
    },
    {
      "cell_type": "markdown",
      "metadata": {
        "id": "KWiZbe1c607m"
      },
      "source": [
        " In this notebook you will need to fill in some missing code to answer the questions below.\n",
        "You will need to scroll down towards the bottom of this notebook to see the instructions.\n",
        "\n",
        "Remember, with later versions of keras you must access it via 'tensorflow.keras' and not only 'keras', e.g., `from tensorflow.keras.layers import Dense`"
      ]
    },
    {
      "cell_type": "code",
      "execution_count": 1,
      "metadata": {
        "id": "2iVOQUNdQZAt"
      },
      "outputs": [
        {
          "ename": "ModuleNotFoundError",
          "evalue": "No module named 'tensorflow'",
          "output_type": "error",
          "traceback": [
            "\u001b[1;31m---------------------------------------------------------------------------\u001b[0m",
            "\u001b[1;31mModuleNotFoundError\u001b[0m                       Traceback (most recent call last)",
            "\u001b[1;32m~\\AppData\\Local\\Temp/ipykernel_12996/545095408.py\u001b[0m in \u001b[0;36m<module>\u001b[1;34m\u001b[0m\n\u001b[0;32m      1\u001b[0m \u001b[1;32mfrom\u001b[0m \u001b[0mnumpy\u001b[0m\u001b[1;33m.\u001b[0m\u001b[0mrandom\u001b[0m \u001b[1;32mimport\u001b[0m \u001b[0mseed\u001b[0m\u001b[1;33m\u001b[0m\u001b[1;33m\u001b[0m\u001b[0m\n\u001b[0;32m      2\u001b[0m \u001b[0mseed\u001b[0m\u001b[1;33m(\u001b[0m\u001b[1;36m0\u001b[0m\u001b[1;33m)\u001b[0m\u001b[1;33m\u001b[0m\u001b[1;33m\u001b[0m\u001b[0m\n\u001b[1;32m----> 3\u001b[1;33m \u001b[1;32mfrom\u001b[0m \u001b[0mtensorflow\u001b[0m\u001b[1;33m.\u001b[0m\u001b[0mrandom\u001b[0m \u001b[1;32mimport\u001b[0m \u001b[0mset_seed\u001b[0m\u001b[1;33m\u001b[0m\u001b[1;33m\u001b[0m\u001b[0m\n\u001b[0m\u001b[0;32m      4\u001b[0m \u001b[0mset_seed\u001b[0m\u001b[1;33m(\u001b[0m\u001b[1;36m0\u001b[0m\u001b[1;33m)\u001b[0m\u001b[1;33m\u001b[0m\u001b[1;33m\u001b[0m\u001b[0m\n\u001b[0;32m      5\u001b[0m \u001b[1;32mimport\u001b[0m \u001b[0mtensorflow\u001b[0m \u001b[1;32mas\u001b[0m \u001b[0mtf\u001b[0m\u001b[1;33m\u001b[0m\u001b[1;33m\u001b[0m\u001b[0m\n",
            "\u001b[1;31mModuleNotFoundError\u001b[0m: No module named 'tensorflow'"
          ]
        }
      ],
      "source": [
        "from numpy.random import seed\n",
        "seed(0)\n",
        "from tensorflow.random import set_seed\n",
        "set_seed(0)\n",
        "import tensorflow as tf\n",
        "import os\n",
        "os.environ['TF_DETERMINISTIC_OPS'] = '1'\n",
        "import matplotlib.pyplot as plt"
      ]
    },
    {
      "cell_type": "code",
      "execution_count": null,
      "metadata": {
        "id": "y3YlUUkIm48Q"
      },
      "outputs": [],
      "source": [
        "def load_data():\n",
        "  from tensorflow.keras.datasets import cifar10\n",
        "  (x_train, y_train), (x_test, y_test) = cifar10.load_data()\n",
        "\n",
        "  return (x_train, y_train), (x_test, y_test)"
      ]
    },
    {
      "cell_type": "code",
      "execution_count": null,
      "metadata": {
        "id": "H-yw-1-tQg9T"
      },
      "outputs": [],
      "source": [
        "def display_image(data, index):\n",
        "  image = data[index]\n",
        "  # call method to show image here.\n",
        "  plt.imshow(image)\n",
        "  plt.show()"
      ]
    },
    {
      "cell_type": "code",
      "execution_count": null,
      "metadata": {
        "id": "-p55278iQpZ5"
      },
      "outputs": [],
      "source": [
        "def onehotencode(y_train, y_test):\n",
        "  from tensorflow.keras.utils import to_categorical\n",
        "  y_train_categorical = to_categorical(y_train)\n",
        "  y_test_categorical = to_categorical(y_test)\n",
        "  return y_train_categorical, y_test_categorical"
      ]
    },
    {
      "cell_type": "code",
      "execution_count": null,
      "metadata": {
        "id": "CV6fRz_Mn7OE"
      },
      "outputs": [],
      "source": [
        "def reshape_data_cnn(x_train, x_test):\n",
        "\n",
        "  height = x_train.shape[1]\n",
        "  width = x_train.shape[2]\n",
        "  channels = 3\n",
        "  \n",
        "  # reshape train and test data here.\n",
        "  x_train_cnn = x_train.reshape(x_train.shape[0], height, width, channels)\n",
        "  x_test_cnn = x_test.reshape(x_test.shape[0], height, width, channels)\n",
        "\n",
        "  return x_train_cnn, x_test_cnn"
      ]
    },
    {
      "cell_type": "code",
      "execution_count": null,
      "metadata": {
        "id": "KYWawMfEQ5aJ"
      },
      "outputs": [],
      "source": [
        "def build_fit_eval_model(x_train, x_test, y_train_categorical, y_test_categorical):\n",
        "  import numpy as np\n",
        "  from tensorflow.keras.models import Sequential\n",
        "  from tensorflow.keras.layers import Dense\n",
        "  from tensorflow.keras.optimizers import Adam\n",
        "  from tensorflow.keras.layers import Conv2D\n",
        "  from tensorflow.keras.layers import MaxPooling2D\n",
        "  from tensorflow. keras.layers import Flatten\n",
        "\n",
        "  height = x_train.shape[1]\n",
        "  width = x_train.shape[2]\n",
        "  channels = 3\n",
        "  num_classes = len(np.unique(y_train))\n",
        "\n",
        "\n",
        "  # build model here.\n",
        "  model = Sequential()\n",
        "\n",
        "  model.add(Conv2D(filters=32, kernel_size=(5,5), padding='same', activation='relu', input_shape=(height, width, channels)))\n",
        "  model.add(MaxPooling2D(pool_size=(2,2), strides=(2,2)))\n",
        "  \"\"\"\n",
        "  one common approach is to add more filters as we add more layers.. the idea being that the early layers 'learn' \n",
        "  more specific features such as edges in an image while later layers learn more specific features.. \n",
        "  while early layers may learn to detect lines, later filters may learn to detect sleeves of a shirt, or heels of a shoe\n",
        "  \"\"\"\n",
        "  model.add(Conv2D(filters=64, kernel_size=(5,5), padding='same', activation='relu', input_shape=(height, width, channels)))\n",
        "  model.add(MaxPooling2D(pool_size=(2,2), strides=(2,2)))\n",
        "  \"\"\"\n",
        "  once we finish convolutions, we need to squish or non 1D output into something a \n",
        "  fully connected neural network can process.\n",
        "  you can think of the convolution layers as learning image features, while the fully connected\n",
        "  layer below is performing classification using them.\n",
        "  \"\"\"\n",
        "  model.add(Flatten())\n",
        "  \"\"\"\n",
        "  now that we have squished, or flattened it, we can either just add one more layer that we want to be our \n",
        "  predicted class probablities, or we can add some more dense (for e.g.) layers first..\n",
        "  the final dense layer will be our output layer, producing probablities that the image belongs to each class\n",
        "  \"\"\"\n",
        "  model.add(Dense(64, activation='relu'))\n",
        "  model.add(Dense(32, activation='relu'))\n",
        "  model.add(Dense(num_classes, activation='softmax'))\n",
        "\n",
        "\n",
        "  # compile model here\n",
        "  model.compile(loss='categorical_crossentropy', optimizer=Adam(learning_rate=0.001), metrics=['accuracy'])\n",
        "\n",
        "\n",
        "  # fit/train model here\n",
        "  history = model.fit(x_train_cnn, y_train_categorical, epochs=10)\n",
        "\n",
        "  # evaluate model on test set here\n",
        "  loss, accuracy = model.evaluate(x_test_cnn, y_test_categorical)\n",
        "\n",
        "  return model"
      ]
    },
    {
      "cell_type": "code",
      "execution_count": null,
      "metadata": {
        "id": "BGWbgJwmr767"
      },
      "outputs": [],
      "source": [
        "def make_predictions(model, data, image):\n",
        "  display_image(x_test, image[0])\n",
        "\n",
        "  predictions = model.predict(data[image])\n",
        "  return predictions[0]"
      ]
    },
    {
      "cell_type": "markdown",
      "metadata": {
        "id": "DaQPziM0tQOh"
      },
      "source": [
        "# STEP ONE\n",
        "\n",
        "You need to fill in the code for the load_data function above. Scroll up to the load_data function and import and load the CIFAR10 dataset from Keras (https://keras.io/api/datasets/cifar10/). CIFAR10 is a dataset of 70,000 labeled images, each belonging to one of ten classes."
      ]
    },
    {
      "cell_type": "code",
      "execution_count": null,
      "metadata": {
        "id": "Ra8zqLSenIVO"
      },
      "outputs": [],
      "source": [
        "(x_train, y_train), (x_test, y_test) = load_data()"
      ]
    },
    {
      "cell_type": "markdown",
      "metadata": {
        "id": "dmcKru05suze"
      },
      "source": [
        "# STEP TWO\n",
        "You need to fill in the code for the display_image function above. In this function you should write two lines of code. The first will select the datapoint at the supplied index of the supplied dataset. The second line should plot it."
      ]
    },
    {
      "cell_type": "code",
      "execution_count": null,
      "metadata": {
        "colab": {
          "base_uri": "https://localhost:8080/",
          "height": 266
        },
        "id": "3ClrGPoxrmIF",
        "outputId": "a4854b6d-4139-4c3d-c831-f166c64b3b4c"
      },
      "outputs": [
        {
          "data": {
            "image/png": "[encoded data removed]",
            "text/plain": [
              "<Figure size 432x288 with 1 Axes>"
            ]
          },
          "metadata": {
            "needs_background": "light"
          },
          "output_type": "display_data"
        }
      ],
      "source": [
        "display_image(x_train, 120) "
      ]
    },
    {
      "cell_type": "markdown",
      "metadata": {
        "id": "M1PIGwzJs1Q3"
      },
      "source": [
        "# STEP THREE\n",
        "You need to fill in the code for the onehotenencode function above. The function should one hot encode the training and test labels, and return them."
      ]
    },
    {
      "cell_type": "code",
      "execution_count": null,
      "metadata": {
        "id": "LAnqZjTkrmQk"
      },
      "outputs": [],
      "source": [
        "y_train_categorical, y_test_categorical = onehotencode(y_train, y_test)"
      ]
    },
    {
      "cell_type": "markdown",
      "metadata": {
        "id": "VxWUMgmXs493"
      },
      "source": [
        "# STEP FOUR\n",
        "You need to fill in the code for the reshape_data_cnn function above. This function should take the data supplied as arguments, and format it such that it can be used with a CNN."
      ]
    },
    {
      "cell_type": "code",
      "execution_count": null,
      "metadata": {
        "id": "1AZmuIPwrmYQ"
      },
      "outputs": [],
      "source": [
        "x_train_cnn, x_test_cnn = reshape_data_cnn(x_train, x_test)"
      ]
    },
    {
      "cell_type": "markdown",
      "metadata": {
        "id": "AFS9w2BytBnc"
      },
      "source": [
        "# STEP FIVE\n",
        "You need to finish implementting the code in the build_fit_eval_model function above. In this you should consult the guide in the Assignment question. It will require you to build the model using the layers specified, train (fit) the model for the required number of epochs and then evaluate the trained model on the test dataset."
      ]
    },
    {
      "cell_type": "code",
      "execution_count": null,
      "metadata": {
        "colab": {
          "base_uri": "https://localhost:8080/"
        },
        "id": "XfolUO3jrmfL",
        "outputId": "d6ef1e44-012c-4a10-a47a-dca498cab768"
      },
      "outputs": [
        {
          "name": "stdout",
          "output_type": "stream",
          "text": [
            "Epoch 1/10\n",
            "1563/1563 [==============================] - 16s 9ms/step - loss: 2.0689 - accuracy: 0.2699\n",
            "Epoch 2/10\n",
            "1563/1563 [==============================] - 13s 8ms/step - loss: 1.3673 - accuracy: 0.5116\n",
            "Epoch 3/10\n",
            "1563/1563 [==============================] - 13s 8ms/step - loss: 1.1867 - accuracy: 0.5840\n",
            "Epoch 4/10\n",
            "1563/1563 [==============================] - 13s 8ms/step - loss: 1.0651 - accuracy: 0.6299\n",
            "Epoch 5/10\n",
            "1563/1563 [==============================] - 13s 8ms/step - loss: 0.9864 - accuracy: 0.6579\n",
            "Epoch 6/10\n",
            "1563/1563 [==============================] - 13s 8ms/step - loss: 0.9110 - accuracy: 0.6839\n",
            "Epoch 7/10\n",
            "1563/1563 [==============================] - 13s 8ms/step - loss: 0.8456 - accuracy: 0.7073\n",
            "Epoch 8/10\n",
            "1563/1563 [==============================] - 13s 8ms/step - loss: 0.7884 - accuracy: 0.7263\n",
            "Epoch 9/10\n",
            "1563/1563 [==============================] - 13s 8ms/step - loss: 0.7296 - accuracy: 0.7463\n",
            "Epoch 10/10\n",
            "1563/1563 [==============================] - 13s 8ms/step - loss: 0.6822 - accuracy: 0.7612\n",
            "313/313 [==============================] - 1s 4ms/step - loss: 1.1442 - accuracy: 0.6466\n"
          ]
        }
      ],
      "source": [
        "model = build_fit_eval_model(x_train, x_test, y_train_categorical, y_test_categorical)"
      ]
    },
    {
      "cell_type": "markdown",
      "metadata": {
        "id": "3KJIMnqGtH3i"
      },
      "source": [
        "# STEP SIX\n",
        "Now the data is loaded and prepared, the next task is to design a CNN with a single convolutional layer, a single max pooling layer, and two dense layers. \n",
        "\n",
        "* The convolutional layer should have 32 filters, padding should be the 'same' and the kernel size should be 5x5. \n",
        "* The max pooling layer should have a pool size of 2x2 and stride size of 2x2. \n",
        "The dense layers should have 32 and num_classes neurons (units), respectively. \n",
        " * All activation functions should be relu, except for the final layer which should be softmax. \n",
        "* The optimizer should be SGD with a learning rate of 0.001.\n",
        "* Train the network for 10 epochs.\n",
        "\n",
        "\n",
        "Train this network (model.fit()) and evaluate it on the test set (model.evaluate()).\n",
        "\n",
        "Note, each time you train the CNN, you should do so by going to Runtime -> Restart and Run All.\n",
        "\n",
        "What is the accuracy of this CNN on the test dataset?"
      ]
    },
    {
      "cell_type": "markdown",
      "metadata": {
        "id": "rDa1RV-TJCJ9"
      },
      "source": [
        "# STEP SEVEN\n",
        "Let's modify the CNN to improve performance.\n",
        "\n",
        "Add another another convolutional blocks (Conv2D + Max Pooling) after the first, with the same hyperparameters as the first, but double the number of filters.\n",
        "\n",
        "Note, each time you train the CNN, you should do so by going to Runtime -> Restart and Run All.\n",
        "\n",
        "What is the accuracy of this CNN on the test dataset?\n"
      ]
    },
    {
      "cell_type": "markdown",
      "metadata": {
        "id": "lMVHvAgyJOMn"
      },
      "source": [
        "# STEP EIGHT\n",
        "\n",
        "Let's modify the CNN further to improve performance.\n",
        "\n",
        "Add another Dense layer, before the first Dense layer in the network. Give it 64 neurons with relu activation.\n",
        "\n",
        "Note, each time you train the CNN, you should do so by going to Runtime -> Restart and Run All.\n",
        "\n",
        "What is the accuracy of this CNN on the test dataset?\n"
      ]
    },
    {
      "cell_type": "markdown",
      "metadata": {
        "id": "gKkprAGHJV_D"
      },
      "source": [
        "# STEP NINE\n",
        "\n",
        "Let's try something else. There are many different ways of modifying the network further. For example, we could change the optimizer. SGD is one way of optimizing our neural network, however, more complex optimizers are available. While the theory of them are outside the scope of this unit (deep learning could be unit on its own), they are worth knowing about if you are doing deep learning. Perhaps the most widely used optimizer in deep neural networks is the Adam optimizer, which is an extension of SGD. Thankfully, to use them is easy. Update the optimizer in in the model compile function to use the Adam optimiser with a learning rate of 0.001.\n",
        "\n",
        "https://www.tensorflow.org/api_docs/python/tf/keras/optimizers/Adam\n",
        "\n",
        "\n",
        "\n",
        "Note, each time you train the CNN, you should do so by going to Runtime -> Restart and Run All.\n",
        "\n",
        "What is the accuracy of this CNN on the test dataset? Report the percentage."
      ]
    },
    {
      "cell_type": "markdown",
      "metadata": {
        "id": "hbNzvloQJgKU"
      },
      "source": [
        "# STEP TEN\n",
        "\n",
        "I have provided a function called 'make_predictions'. Use this function, supplying indexes 333 and 1375 of the test set."
      ]
    },
    {
      "cell_type": "markdown",
      "metadata": {
        "id": "_pM4MVtuHIkI"
      },
      "source": [
        "The labels map to the class names as follows:\n",
        "* 0 is airplane\n",
        "* 1 is automobile\n",
        "* 2 is bird\n",
        "* 3 is cat \n",
        "* 4 is deer\n",
        "* 5 is dog\n",
        "* 6 is frog\n",
        "* 7 is horse\n",
        "* 8 is ship\n",
        "* 9 is truck"
      ]
    },
    {
      "cell_type": "code",
      "execution_count": null,
      "metadata": {
        "colab": {
          "base_uri": "https://localhost:8080/",
          "height": 317
        },
        "id": "sFI_JZoErkr8",
        "outputId": "99407284-0f4c-42fb-bfa7-d1bad022c846"
      },
      "outputs": [
        {
          "data": {
            "image/png": "[encoded data removed]",
            "text/plain": [
              "<Figure size 432x288 with 1 Axes>"
            ]
          },
          "metadata": {
            "needs_background": "light"
          },
          "output_type": "display_data"
        },
        {
          "name": "stdout",
          "output_type": "stream",
          "text": [
            "[4.0030347e-05 7.5111509e-04 5.8117257e-03 7.6403492e-03 4.2924928e-03\n",
            " 2.0610085e-03 9.7802812e-01 4.6669858e-04 8.8331860e-04 2.5176016e-05]\n",
            "0.9780281\n"
          ]
        }
      ],
      "source": [
        "\n",
        "# indices should be a list\n",
        "data = x_test_cnn\n",
        "image = [333]\n",
        "predictions = make_predictions(model, data, image)\n",
        "\n",
        "print(predictions)\n",
        "print(max(predictions))\n"
      ]
    }
  ],
  "metadata": {
    "accelerator": "GPU",
    "colab": {
      "collapsed_sections": [],
      "name": "Week 4 Worksheet 3 - Deep Learning.ipynb",
      "provenance": [],
      "toc_visible": true
    },
    "kernelspec": {
      "display_name": "Python 3",
      "name": "python3"
    },
    "language_info": {
      "codemirror_mode": {
        "name": "ipython",
        "version": 3
      },
      "file_extension": ".py",
      "mimetype": "text/x-python",
      "name": "python",
      "nbconvert_exporter": "python",
      "pygments_lexer": "ipython3",
      "version": "3.8.7"
    }
  },
  "nbformat": 4,
  "nbformat_minor": 0
}
